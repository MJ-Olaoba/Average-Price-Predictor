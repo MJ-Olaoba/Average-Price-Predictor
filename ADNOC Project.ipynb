{
 "cells": [
  {
   "cell_type": "code",
   "execution_count": null,
   "metadata": {},
   "outputs": [],
   "source": [
    "import pandas as pd\n",
    "\n",
    "df = pd.read_csv('C:/Users/OWNER PC/OneDrive/Documents/ML Projects/ADNOC Dataset/ADNOC_Stock_historical_Data.csv')\n",
    "df.head()"
   ]
  },
  {
   "cell_type": "code",
   "execution_count": null,
   "metadata": {},
   "outputs": [],
   "source": [
    "print(df.info())\n",
    "print(df.describe())"
   ]
  },
  {
   "cell_type": "code",
   "execution_count": null,
   "metadata": {},
   "outputs": [],
   "source": [
    "import matplotlib.pyplot as plt\n",
    "\n",
    "import seaborn as sns\n",
    "\n",
    "#sns.pairplot(df[['Open', 'High', 'Low', 'Close', 'Volume']])\n",
    "df[['Open', 'High', 'Low', 'Close', 'Volume', 'Price_Change', 'Percentage_Change', 'Average_Price', 'Range']].hist(bins=60, figsize=(12,8))"
   ]
  },
  {
   "cell_type": "code",
   "execution_count": null,
   "metadata": {},
   "outputs": [],
   "source": [
    "fig, axs = plt.subplots(5, 5, figsize=(20, 20))\n",
    "\n",
    "columns = ['Open', 'High', 'Low', 'Close', 'Volume']\n",
    "\n",
    "for i in range(5):\n",
    "    for j in range(5):\n",
    "        if i != j:\n",
    "            axs[i, j].scatter(df[columns[i]], df[columns[j]])\n",
    "            axs[i, j].set_xlabel(columns[i])\n",
    "            axs[i, j].set_ylabel(columns[j])\n",
    "        else:\n",
    "            axs[i, j].hist(df[columns[i]], bins=50)\n",
    "            axs[i, j].set_title(columns[i])\n",
    "\n",
    "plt.tight_layout()\n",
    "plt.show()"
   ]
  },
  {
   "cell_type": "code",
   "execution_count": null,
   "metadata": {},
   "outputs": [],
   "source": [
    "corr_matrix = df.corr()\n",
    "print(corr_matrix)"
   ]
  },
  {
   "cell_type": "code",
   "execution_count": null,
   "metadata": {},
   "outputs": [],
   "source": [
    "plt.figure(figsize=(10, 8))\n",
    "sns.heatmap(corr_matrix, annot=True, cmap='coolwarm', square=True, fmt='.2f')\n",
    "\n",
    "import numpy as np\n",
    "\n",
    "corr_no_diagonal = np.triu(corr_matrix, k=1)\n",
    "max_corr_idx = np.unravel_index(np.argmax(np.abs(corr_matrix)), corr_no_diagonal.shape)\n",
    "max_corr = corr_no_diagonal[max_corr_idx]\n",
    "\n",
    "plt.scatter(max_corr_idx[1], max_corr_idx[0], marker='*', s=200, c='red')\n",
    "plt.text(max_corr_idx[1], max_corr_idx[0], f'Corr: {max_corr:.2f}\\nFeatures: {corr_matrix.columns[max_corr_idx[1]]} vs {corr_matrix.columns[max_corr_idx[0]]}', ha='center', va='center', fontsize=10)\n",
    "\n",
    "plt.title('Correlation Matrix')\n",
    "plt.show()"
   ]
  },
  {
   "cell_type": "code",
   "execution_count": null,
   "metadata": {},
   "outputs": [],
   "source": [
    "df"
   ]
  },
  {
   "cell_type": "code",
   "execution_count": null,
   "metadata": {},
   "outputs": [],
   "source": [
    "from sklearn.preprocessing import MinMaxScaler\n",
    "\n",
    "scaler = MinMaxScaler()\n",
    "df[['Open', 'Close', 'High', 'Low', 'Volume', 'Price_Change', 'Percentage_Change', 'Average_Price', 'Range']] = scaler.fit_transform(df[['Open', 'Close', 'High', 'Low', 'Volume', 'Price_Change', 'Percentage_Change', 'Average_Price', 'Range']])\n",
    "\n",
    "df['Date'] = pd.to_datetime(df['Date'])\n",
    "\n",
    "df['Day'] = df['Date'].dt.day\n",
    "df['Month'] = df['Date'].dt.month\n",
    "df['Year'] = df['Date'].dt.year\n",
    "\n",
    "df.drop('Date', axis=1, inplace=True)\n",
    "from sklearn.model_selection import train_test_split\n",
    "\n",
    "X = df.drop('Average_Price', axis=1)\n",
    "y = df['Average_Price']\n",
    "\n",
    "X_train, X_test, y_train, y_test = train_test_split(X,y, test_size=0.2, random_state=42)\n",
    "\n",
    "print('Preprocessing Complete')"
   ]
  },
  {
   "cell_type": "code",
   "execution_count": null,
   "metadata": {},
   "outputs": [],
   "source": [
    "from keras.models import Sequential\n",
    "from keras.layers import Dense\n",
    "from keras.metrics import mean_squared_error\n",
    "\n",
    "model = Sequential()\n",
    "model.add(Dense(units=64, activation='relu', input_shape=(X.shape[1],)))\n",
    "model.add(Dense(units=32, activation='relu'))\n",
    "model.add(Dense(1))\n",
    "\n",
    "model.compile(loss='mean_squared_error', optimizer='adam', metrics=[mean_squared_error], steps_per_execution=False)\n",
    "\n",
    "history = model.fit(X_train, y_train, epochs=100, batch_size=42, validation_data=(X_test, y_test))\n",
    "\n",
    "plt.plot(history.history['loss'], label='Training Loss')\n",
    "plt.plot(history.history['val_loss'], label='Validation Loss')\n",
    "plt.legend()\n",
    "plt.show()\n",
    "\n",
    "plt.plot(history.history['val_mean_squared_error'], label='Validation Mean Squared Error')\n",
    "plt.legend()\n",
    "plt.show()\n",
    "\n",
    "mse = model.evaluate(X_test, y_test)\n",
    "rmse = np.sqrt(mse)\n",
    "\n",
    "print('RMSE: ', rmse[0])"
   ]
  }
 ],
 "metadata": {
  "kernelspec": {
   "display_name": "Python 3",
   "language": "python",
   "name": "python3"
  },
  "language_info": {
   "codemirror_mode": {
    "name": "ipython",
    "version": 3
   },
   "file_extension": ".py",
   "mimetype": "text/x-python",
   "name": "python",
   "nbconvert_exporter": "python",
   "pygments_lexer": "ipython3",
   "version": "3.10.8"
  }
 },
 "nbformat": 4,
 "nbformat_minor": 2
}
